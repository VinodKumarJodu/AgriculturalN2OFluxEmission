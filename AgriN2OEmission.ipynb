{
 "cells": [
  {
   "cell_type": "code",
   "execution_count": 1,
   "id": "177e96d2-4231-419b-bc72-a48969e13c94",
   "metadata": {},
   "outputs": [],
   "source": [
    "import numpy as np\n",
    "import pandas as pd\n",
    "\n",
    "from sklearn.impute import KNNImputer\n",
    "from sklearn.model_selection import train_test_split\n",
    "from sklearn.metrics import mean_squared_error\n",
    "\n",
    "import matplotlib.pyplot as plt\n",
    "import seaborn as sns\n",
    "\n",
    "from collections import Counter\n",
    "from sklearn.datasets import make_classification\n",
    "from imblearn.over_sampling import RandomOverSampler\n",
    "from imblearn.over_sampling import SMOTE\n",
    "from sklearn.preprocessing import StandardScaler\n",
    "\n",
    "from sklearn.model_selection import train_test_split, cross_val_score\n",
    "from sklearn.feature_selection import SelectKBest, RFE\n",
    "from sklearn.feature_selection import f_regression\n",
    "\n",
    "from xgboost import XGBRegressor\n",
    "from sklearn.ensemble import RandomForestRegressor\n",
    "from sklearn.tree import DecisionTreeRegressor\n",
    "from sklearn.linear_model import LinearRegression\n",
    "from sklearn.metrics import r2_score, mean_absolute_error, mean_squared_error\n",
    "\n",
    "# hyperparameter tuning\n",
    "from sklearn.pipeline import Pipeline\n",
    "from sklearn.model_selection import RepeatedKFold, GridSearchCV\n",
    "\n",
    "import warnings\n",
    "warnings.filterwarnings(\"ignore\")\n",
    "sns.set_style('darkgrid')\n",
    "pd.set_option('max_columns',None)\n",
    "pd.set_option('precision',3)"
   ]
  },
  {
   "cell_type": "code",
   "execution_count": 2,
   "id": "feb8804e-7c3c-4ba5-9577-ca340aaf6fd6",
   "metadata": {},
   "outputs": [
    {
     "name": "stdout",
     "output_type": "stream",
     "text": [
      "<class 'pandas.core.frame.DataFrame'>\n",
      "RangeIndex: 2246 entries, 0 to 2245\n",
      "Data columns (total 21 columns):\n",
      " #   Column       Non-Null Count  Dtype         \n",
      "---  ------       --------------  -----         \n",
      " 0   Date         2246 non-null   datetime64[ns]\n",
      " 1   Year         2246 non-null   int64         \n",
      " 2   Experiment   2246 non-null   object        \n",
      " 3   DataUse      2246 non-null   object        \n",
      " 4   Replication  2246 non-null   object        \n",
      " 5   Month        2246 non-null   object        \n",
      " 6   Vegetation   2246 non-null   object        \n",
      " 7   VegType      2246 non-null   object        \n",
      " 8   N2O          2246 non-null   float64       \n",
      " 9   N_rate       2246 non-null   int64         \n",
      " 10  PP2          2246 non-null   float64       \n",
      " 11  PP7          2246 non-null   float64       \n",
      " 12  AirT         2246 non-null   float64       \n",
      " 13  DAF_TD       2246 non-null   int64         \n",
      " 14  DAF_SD       2246 non-null   int64         \n",
      " 15  WFPS25cm     2194 non-null   float64       \n",
      " 16  NH4          2170 non-null   float64       \n",
      " 17  NO3          2216 non-null   float64       \n",
      " 18  Clay         2246 non-null   float64       \n",
      " 19  Sand         2246 non-null   float64       \n",
      " 20  SOM          2246 non-null   float64       \n",
      "dtypes: datetime64[ns](1), float64(10), int64(4), object(6)\n",
      "memory usage: 368.6+ KB\n"
     ]
    }
   ],
   "source": [
    "agri_data = pd.read_excel('Saha_et_al_2020_ERL_Data.xlsx', sheet_name=1)\n",
    "agri_data.info()"
   ]
  },
  {
   "cell_type": "code",
   "execution_count": 3,
   "id": "ebc61d16-c90d-4db4-ad3d-0a8f87db50aa",
   "metadata": {},
   "outputs": [
    {
     "data": {
      "text/html": [
       "<div>\n",
       "<style scoped>\n",
       "    .dataframe tbody tr th:only-of-type {\n",
       "        vertical-align: middle;\n",
       "    }\n",
       "\n",
       "    .dataframe tbody tr th {\n",
       "        vertical-align: top;\n",
       "    }\n",
       "\n",
       "    .dataframe thead th {\n",
       "        text-align: right;\n",
       "    }\n",
       "</style>\n",
       "<table border=\"1\" class=\"dataframe\">\n",
       "  <thead>\n",
       "    <tr style=\"text-align: right;\">\n",
       "      <th></th>\n",
       "      <th>Date</th>\n",
       "      <th>Year</th>\n",
       "      <th>Experiment</th>\n",
       "      <th>DataUse</th>\n",
       "      <th>Replication</th>\n",
       "      <th>Month</th>\n",
       "      <th>Vegetation</th>\n",
       "      <th>VegType</th>\n",
       "      <th>N2O</th>\n",
       "      <th>N_rate</th>\n",
       "      <th>PP2</th>\n",
       "      <th>PP7</th>\n",
       "      <th>AirT</th>\n",
       "      <th>DAF_TD</th>\n",
       "      <th>DAF_SD</th>\n",
       "      <th>WFPS25cm</th>\n",
       "      <th>NH4</th>\n",
       "      <th>NO3</th>\n",
       "      <th>Clay</th>\n",
       "      <th>Sand</th>\n",
       "      <th>SOM</th>\n",
       "    </tr>\n",
       "  </thead>\n",
       "  <tbody>\n",
       "    <tr>\n",
       "      <th>0</th>\n",
       "      <td>2012-02-09</td>\n",
       "      <td>2012</td>\n",
       "      <td>BCSE_KBS</td>\n",
       "      <td>Building</td>\n",
       "      <td>R1</td>\n",
       "      <td>February</td>\n",
       "      <td>Corn</td>\n",
       "      <td>Annual</td>\n",
       "      <td>3.897</td>\n",
       "      <td>170</td>\n",
       "      <td>0.00</td>\n",
       "      <td>0.00</td>\n",
       "      <td>-2.0</td>\n",
       "      <td>276</td>\n",
       "      <td>241</td>\n",
       "      <td>0.667</td>\n",
       "      <td>11.046</td>\n",
       "      <td>22.941</td>\n",
       "      <td>62.5</td>\n",
       "      <td>637.5</td>\n",
       "      <td>1.174</td>\n",
       "    </tr>\n",
       "    <tr>\n",
       "      <th>1</th>\n",
       "      <td>2012-02-10</td>\n",
       "      <td>2012</td>\n",
       "      <td>BCSE_KBS</td>\n",
       "      <td>Building</td>\n",
       "      <td>R1</td>\n",
       "      <td>February</td>\n",
       "      <td>Corn</td>\n",
       "      <td>Annual</td>\n",
       "      <td>2.190</td>\n",
       "      <td>170</td>\n",
       "      <td>0.00</td>\n",
       "      <td>0.00</td>\n",
       "      <td>-2.4</td>\n",
       "      <td>277</td>\n",
       "      <td>242</td>\n",
       "      <td>0.641</td>\n",
       "      <td>11.008</td>\n",
       "      <td>22.960</td>\n",
       "      <td>62.5</td>\n",
       "      <td>637.5</td>\n",
       "      <td>1.174</td>\n",
       "    </tr>\n",
       "    <tr>\n",
       "      <th>2</th>\n",
       "      <td>2012-02-18</td>\n",
       "      <td>2012</td>\n",
       "      <td>BCSE_KBS</td>\n",
       "      <td>Building</td>\n",
       "      <td>R1</td>\n",
       "      <td>February</td>\n",
       "      <td>Corn</td>\n",
       "      <td>Annual</td>\n",
       "      <td>3.543</td>\n",
       "      <td>170</td>\n",
       "      <td>3.30</td>\n",
       "      <td>8.64</td>\n",
       "      <td>0.3</td>\n",
       "      <td>285</td>\n",
       "      <td>250</td>\n",
       "      <td>0.728</td>\n",
       "      <td>10.832</td>\n",
       "      <td>23.222</td>\n",
       "      <td>62.5</td>\n",
       "      <td>637.5</td>\n",
       "      <td>1.174</td>\n",
       "    </tr>\n",
       "    <tr>\n",
       "      <th>3</th>\n",
       "      <td>2012-02-19</td>\n",
       "      <td>2012</td>\n",
       "      <td>BCSE_KBS</td>\n",
       "      <td>Building</td>\n",
       "      <td>R1</td>\n",
       "      <td>February</td>\n",
       "      <td>Corn</td>\n",
       "      <td>Annual</td>\n",
       "      <td>3.343</td>\n",
       "      <td>170</td>\n",
       "      <td>0.00</td>\n",
       "      <td>8.13</td>\n",
       "      <td>-3.8</td>\n",
       "      <td>286</td>\n",
       "      <td>251</td>\n",
       "      <td>0.687</td>\n",
       "      <td>10.850</td>\n",
       "      <td>23.272</td>\n",
       "      <td>62.5</td>\n",
       "      <td>637.5</td>\n",
       "      <td>1.174</td>\n",
       "    </tr>\n",
       "    <tr>\n",
       "      <th>4</th>\n",
       "      <td>2012-03-16</td>\n",
       "      <td>2012</td>\n",
       "      <td>BCSE_KBS</td>\n",
       "      <td>Building</td>\n",
       "      <td>R1</td>\n",
       "      <td>March</td>\n",
       "      <td>Corn</td>\n",
       "      <td>Annual</td>\n",
       "      <td>2.948</td>\n",
       "      <td>170</td>\n",
       "      <td>1.02</td>\n",
       "      <td>8.39</td>\n",
       "      <td>17.6</td>\n",
       "      <td>312</td>\n",
       "      <td>277</td>\n",
       "      <td>0.716</td>\n",
       "      <td>10.205</td>\n",
       "      <td>24.207</td>\n",
       "      <td>62.5</td>\n",
       "      <td>637.5</td>\n",
       "      <td>1.174</td>\n",
       "    </tr>\n",
       "  </tbody>\n",
       "</table>\n",
       "</div>"
      ],
      "text/plain": [
       "        Date  Year Experiment   DataUse Replication     Month Vegetation  \\\n",
       "0 2012-02-09  2012   BCSE_KBS  Building          R1  February       Corn   \n",
       "1 2012-02-10  2012   BCSE_KBS  Building          R1  February       Corn   \n",
       "2 2012-02-18  2012   BCSE_KBS  Building          R1  February       Corn   \n",
       "3 2012-02-19  2012   BCSE_KBS  Building          R1  February       Corn   \n",
       "4 2012-03-16  2012   BCSE_KBS  Building          R1     March       Corn   \n",
       "\n",
       "  VegType    N2O  N_rate   PP2   PP7  AirT  DAF_TD  DAF_SD  WFPS25cm     NH4  \\\n",
       "0  Annual  3.897     170  0.00  0.00  -2.0     276     241     0.667  11.046   \n",
       "1  Annual  2.190     170  0.00  0.00  -2.4     277     242     0.641  11.008   \n",
       "2  Annual  3.543     170  3.30  8.64   0.3     285     250     0.728  10.832   \n",
       "3  Annual  3.343     170  0.00  8.13  -3.8     286     251     0.687  10.850   \n",
       "4  Annual  2.948     170  1.02  8.39  17.6     312     277     0.716  10.205   \n",
       "\n",
       "      NO3  Clay   Sand    SOM  \n",
       "0  22.941  62.5  637.5  1.174  \n",
       "1  22.960  62.5  637.5  1.174  \n",
       "2  23.222  62.5  637.5  1.174  \n",
       "3  23.272  62.5  637.5  1.174  \n",
       "4  24.207  62.5  637.5  1.174  "
      ]
     },
     "execution_count": 3,
     "metadata": {},
     "output_type": "execute_result"
    }
   ],
   "source": [
    "agri_data.head()"
   ]
  },
  {
   "cell_type": "code",
   "execution_count": 4,
   "id": "9b87a9cd-dce6-4100-8e07-4ecba961bedb",
   "metadata": {},
   "outputs": [],
   "source": [
    "def oversample(df, columnName):\n",
    "    major = df.drop(columnName, axis=1)\n",
    "    minor = df[columnName]\n",
    "    \n",
    "    oversampler = SMOTE()\n",
    "    major, minor = oversampler.fit_resample(major, minor)\n",
    "    \n",
    "    df = pd.concat([major,minor],axis=1)\n",
    "    return df"
   ]
  },
  {
   "cell_type": "code",
   "execution_count": 5,
   "id": "d5e57627-1ac5-4017-9f2e-959fd5a44ad6",
   "metadata": {},
   "outputs": [],
   "source": [
    "def preprocess_inputs(data):\n",
    "    df1 = data.copy()\n",
    "    \n",
    "    # drop unnecessary columns\n",
    "    # VegType is dropped i.e Variation is zero\n",
    "    # DataUse is dropped i.e Does not Contribute to Predict N2O\n",
    "    # Replication is dropped i.e Repition of Experiment in a Day\n",
    "    # Sand column is dropped i.e High Correlation with SOM & Clay\n",
    "    df1 = df1.drop(['Date','VegType','DataUse','Replication','Sand'], axis=1) \n",
    "    \n",
    "    # Encode Categorical Data\n",
    "    exp_dict = {'BCSE_KBS':1, 'MCSE-T2':2, 'Arlington WI':3}\n",
    "    months_dict = {  'January': 1,\n",
    "                     'February': 2,\n",
    "                     'March': 3,\n",
    "                     'April': 4,\n",
    "                     'May': 5,\n",
    "                     'June': 6,\n",
    "                     'July': 7,\n",
    "                     'August': 8,\n",
    "                     'September': 9,\n",
    "                     'October': 10,\n",
    "                     'November': 11,\n",
    "                     'December': 12}\n",
    "    vegetation_dict = {\"Corn\": 1, \"GLYMX\": 2, \"TRIAE\": 3}\n",
    "\n",
    "    df1['Experiment'] = df1['Experiment'].map(exp_dict)\n",
    "    df1['Month']     = df1['Month'].map(months_dict)\n",
    "    df1['Vegetation'] = df1['Vegetation'].map(vegetation_dict)\n",
    "      \n",
    "    train, test= train_test_split(df1, test_size=0.3, random_state=19)\n",
    "    \n",
    "    # Handle Null Values\n",
    "    imputer = KNNImputer(n_neighbors=3, weights='uniform')\n",
    "    \n",
    "    train = pd.DataFrame(data=imputer.fit_transform(train), columns=train.columns)\n",
    "    test  = pd.DataFrame(data=imputer.transform(train), columns=test.columns)\n",
    "    \n",
    "    # Handle Imbalanced Dataset\n",
    "    train_bal = pd.DataFrame(data = oversample(train, 'Vegetation'), columns = train.columns)\n",
    "    \n",
    "    # train_bal = pd.DataFrame(data = oversample(train_bal,'Experiment'), columns = train_bal.columns)\n",
    "    \n",
    "    X_train = train_bal.drop('N2O', axis=1)\n",
    "    y_train = train_bal['N2O']\n",
    "    \n",
    "    X_test = test.drop('N2O', axis=1)\n",
    "    y_test = test['N2O']\n",
    "    \n",
    "    return X_train, y_train, X_test, y_test"
   ]
  },
  {
   "cell_type": "code",
   "execution_count": 26,
   "id": "66b60e86-c88e-4734-8902-45212ed796a2",
   "metadata": {},
   "outputs": [
    {
     "data": {
      "text/plain": [
       "array([1., 2., 3.])"
      ]
     },
     "execution_count": 26,
     "metadata": {},
     "output_type": "execute_result"
    }
   ],
   "source": [
    "X_train['Experiment'].unique()"
   ]
  },
  {
   "cell_type": "code",
   "execution_count": 25,
   "id": "82212cb2-be11-49f2-b970-b282bc8dee0b",
   "metadata": {},
   "outputs": [
    {
     "data": {
      "text/plain": [
       "Index(['Year', 'Experiment', 'Month', 'Vegetation', 'N_rate', 'PP2', 'PP7',\n",
       "       'AirT', 'DAF_TD', 'DAF_SD', 'WFPS25cm', 'NH4', 'NO3', 'Clay', 'SOM'],\n",
       "      dtype='object')"
      ]
     },
     "execution_count": 25,
     "metadata": {},
     "output_type": "execute_result"
    }
   ],
   "source": [
    "X_train.columns"
   ]
  },
  {
   "cell_type": "code",
   "execution_count": 6,
   "id": "f3a4de89-2bf9-48ef-a0e6-a136c15dce0b",
   "metadata": {
    "tags": []
   },
   "outputs": [
    {
     "name": "stdout",
     "output_type": "stream",
     "text": [
      "(3861, 15) (3861,) (1572, 15) (1572,)\n"
     ]
    }
   ],
   "source": [
    "X_train, y_train, X_test, y_test = preprocess_inputs(agri_data)\n",
    "print(X_train.shape,y_train.shape, X_test.shape, y_test.shape)"
   ]
  },
  {
   "cell_type": "code",
   "execution_count": 7,
   "id": "8fdd6df3-5fc9-4263-bf2a-16cb867bc5c2",
   "metadata": {},
   "outputs": [
    {
     "data": {
      "text/html": [
       "<div>\n",
       "<style scoped>\n",
       "    .dataframe tbody tr th:only-of-type {\n",
       "        vertical-align: middle;\n",
       "    }\n",
       "\n",
       "    .dataframe tbody tr th {\n",
       "        vertical-align: top;\n",
       "    }\n",
       "\n",
       "    .dataframe thead th {\n",
       "        text-align: right;\n",
       "    }\n",
       "</style>\n",
       "<table border=\"1\" class=\"dataframe\">\n",
       "  <thead>\n",
       "    <tr style=\"text-align: right;\">\n",
       "      <th></th>\n",
       "      <th>Year</th>\n",
       "      <th>Experiment</th>\n",
       "      <th>Month</th>\n",
       "      <th>Vegetation</th>\n",
       "      <th>N_rate</th>\n",
       "      <th>PP2</th>\n",
       "      <th>PP7</th>\n",
       "      <th>AirT</th>\n",
       "      <th>DAF_TD</th>\n",
       "      <th>DAF_SD</th>\n",
       "      <th>WFPS25cm</th>\n",
       "      <th>NH4</th>\n",
       "      <th>NO3</th>\n",
       "      <th>Clay</th>\n",
       "      <th>SOM</th>\n",
       "    </tr>\n",
       "  </thead>\n",
       "  <tbody>\n",
       "    <tr>\n",
       "      <th>0</th>\n",
       "      <td>2016.0</td>\n",
       "      <td>1.0</td>\n",
       "      <td>9.0</td>\n",
       "      <td>1.0</td>\n",
       "      <td>170.0</td>\n",
       "      <td>0.0</td>\n",
       "      <td>16.00</td>\n",
       "      <td>18.50</td>\n",
       "      <td>130.0</td>\n",
       "      <td>91.0</td>\n",
       "      <td>0.607</td>\n",
       "      <td>6.452</td>\n",
       "      <td>14.963</td>\n",
       "      <td>62.500</td>\n",
       "      <td>1.174</td>\n",
       "    </tr>\n",
       "    <tr>\n",
       "      <th>1</th>\n",
       "      <td>2014.0</td>\n",
       "      <td>2.0</td>\n",
       "      <td>7.0</td>\n",
       "      <td>1.0</td>\n",
       "      <td>167.0</td>\n",
       "      <td>0.0</td>\n",
       "      <td>7.11</td>\n",
       "      <td>17.87</td>\n",
       "      <td>71.0</td>\n",
       "      <td>42.0</td>\n",
       "      <td>0.219</td>\n",
       "      <td>22.237</td>\n",
       "      <td>11.728</td>\n",
       "      <td>169.833</td>\n",
       "      <td>1.823</td>\n",
       "    </tr>\n",
       "    <tr>\n",
       "      <th>2</th>\n",
       "      <td>2016.0</td>\n",
       "      <td>1.0</td>\n",
       "      <td>6.0</td>\n",
       "      <td>1.0</td>\n",
       "      <td>170.0</td>\n",
       "      <td>2.0</td>\n",
       "      <td>1.00</td>\n",
       "      <td>20.50</td>\n",
       "      <td>36.0</td>\n",
       "      <td>363.0</td>\n",
       "      <td>0.600</td>\n",
       "      <td>6.355</td>\n",
       "      <td>23.093</td>\n",
       "      <td>62.500</td>\n",
       "      <td>1.174</td>\n",
       "    </tr>\n",
       "    <tr>\n",
       "      <th>3</th>\n",
       "      <td>2016.0</td>\n",
       "      <td>1.0</td>\n",
       "      <td>1.0</td>\n",
       "      <td>1.0</td>\n",
       "      <td>170.0</td>\n",
       "      <td>0.0</td>\n",
       "      <td>29.00</td>\n",
       "      <td>-0.80</td>\n",
       "      <td>247.0</td>\n",
       "      <td>200.0</td>\n",
       "      <td>0.660</td>\n",
       "      <td>10.542</td>\n",
       "      <td>22.967</td>\n",
       "      <td>62.500</td>\n",
       "      <td>1.174</td>\n",
       "    </tr>\n",
       "    <tr>\n",
       "      <th>4</th>\n",
       "      <td>2013.0</td>\n",
       "      <td>2.0</td>\n",
       "      <td>5.0</td>\n",
       "      <td>3.0</td>\n",
       "      <td>91.0</td>\n",
       "      <td>0.0</td>\n",
       "      <td>0.00</td>\n",
       "      <td>18.13</td>\n",
       "      <td>6.0</td>\n",
       "      <td>6.0</td>\n",
       "      <td>0.293</td>\n",
       "      <td>23.688</td>\n",
       "      <td>39.218</td>\n",
       "      <td>162.500</td>\n",
       "      <td>1.496</td>\n",
       "    </tr>\n",
       "  </tbody>\n",
       "</table>\n",
       "</div>"
      ],
      "text/plain": [
       "     Year  Experiment  Month  Vegetation  N_rate  PP2    PP7   AirT  DAF_TD  \\\n",
       "0  2016.0         1.0    9.0         1.0   170.0  0.0  16.00  18.50   130.0   \n",
       "1  2014.0         2.0    7.0         1.0   167.0  0.0   7.11  17.87    71.0   \n",
       "2  2016.0         1.0    6.0         1.0   170.0  2.0   1.00  20.50    36.0   \n",
       "3  2016.0         1.0    1.0         1.0   170.0  0.0  29.00  -0.80   247.0   \n",
       "4  2013.0         2.0    5.0         3.0    91.0  0.0   0.00  18.13     6.0   \n",
       "\n",
       "   DAF_SD  WFPS25cm     NH4     NO3     Clay    SOM  \n",
       "0    91.0     0.607   6.452  14.963   62.500  1.174  \n",
       "1    42.0     0.219  22.237  11.728  169.833  1.823  \n",
       "2   363.0     0.600   6.355  23.093   62.500  1.174  \n",
       "3   200.0     0.660  10.542  22.967   62.500  1.174  \n",
       "4     6.0     0.293  23.688  39.218  162.500  1.496  "
      ]
     },
     "execution_count": 7,
     "metadata": {},
     "output_type": "execute_result"
    }
   ],
   "source": [
    "X_train.head()"
   ]
  },
  {
   "cell_type": "code",
   "execution_count": 8,
   "id": "1330d521-2f7d-41c6-b6b4-2121fb59fb3c",
   "metadata": {},
   "outputs": [],
   "source": [
    "def model_training(X_train, X_test, y_train, y_test):\n",
    "    original_models = {\n",
    "              'Decision Tree': DecisionTreeRegressor(),\n",
    "              'Random Forest': RandomForestRegressor(),\n",
    "              '     XG Boost': XGBRegressor()\n",
    "    }   \n",
    "    # print(original_models)\n",
    "    for name, model in original_models.items():\n",
    "        model.fit(X_train, y_train)\n",
    "        y_pred = model.predict(X_test)\n",
    "        mse = np.round(mean_squared_error(y_pred, y_test),3)\n",
    "        mae = np.round(mean_absolute_error(y_pred, y_test),3)\n",
    "        rmse = np.round(np.sqrt(np.round(mean_squared_error(y_pred, y_test),3)),3)\n",
    "        # test_score = np.round(r2_score(X_test,y_test)*100,3)\n",
    "        print(f'{name} trained Succesfully with mse: {mse}, mae: {mae}, rmse: {rmse}')"
   ]
  },
  {
   "cell_type": "code",
   "execution_count": 9,
   "id": "9dfc9808-7a8f-456e-96f7-d391f0740864",
   "metadata": {},
   "outputs": [
    {
     "name": "stdout",
     "output_type": "stream",
     "text": [
      "Decision Tree trained Succesfully with mse: 0.0, mae: 0.0, rmse: 0.0\n",
      "Random Forest trained Succesfully with mse: 76.906, mae: 2.207, rmse: 8.77\n",
      "     XG Boost trained Succesfully with mse: 0.978, mae: 0.682, rmse: 0.989\n"
     ]
    }
   ],
   "source": [
    "model_training(X_train, X_test, y_train, y_test)"
   ]
  },
  {
   "cell_type": "code",
   "execution_count": 10,
   "id": "d054e9b5-0db8-44c6-8544-0e1f3b456f8a",
   "metadata": {},
   "outputs": [],
   "source": [
    "def select_features_corr_based(X_train, y_train, X_test, x=\"all\"):\n",
    "    if type(x) == str:\n",
    "        fs_corr = SelectKBest(score_func=f_regression, k='all')\n",
    "    else:\n",
    "        fs_corr = SelectKBest(score_func=f_regression, k = x)\n",
    "    fs_corr.fit(X_train, y_train)\n",
    "    X_train_fs = fs_corr.transform(X_train)\n",
    "    X_test_fs = fs_corr.transform(X_test)\n",
    "    \n",
    "    return X_train_fs, X_test_fs, fs_corr\n",
    "\n",
    "def fs_score_plot(fs_func):\n",
    "    \n",
    "    for i in range(len(fs_func.scores_)):\n",
    "        print('Feature %d: %f' % (i, fs_func.scores_[i]))\n",
    "    # plot the scores\n",
    "    x = [i for i in range(len(fs_func.scores_))]\n",
    "    y = fs_func.scores_\n",
    "    plt.bar(x, y)\n",
    "    plt.xticks(x, X_train.columns.to_list(), fontsize=12, rotation=90)\n",
    "    plt.show()\n",
    "\n",
    "def select_features_model_based(estimator, X_train, y_train, X_test, n=None):\n",
    "    \n",
    "    rfe = RFE(estimator=estimator, n_features_to_select=n)\n",
    "    rfe.fit(X_train,y_train)\n",
    "    X_train_rfe = rfe.transform(X_train)\n",
    "    X_test_rfe = rfe.transform(X_test)\n",
    "    \n",
    "    return X_train_rfe, X_test_rfe, rfe\n",
    "\n",
    "def rfe_score_plot(rfe):\n",
    "\n",
    "    plt.figure(figsize=(7,5))\n",
    "    sns.barplot(y =X_train.columns, x = max(rfe.ranking_) - rfe.ranking_)\n",
    "    plt.show()"
   ]
  },
  {
   "cell_type": "code",
   "execution_count": 11,
   "id": "b36e339e-a619-4b9f-bdef-5c60f2f5a7b6",
   "metadata": {},
   "outputs": [
    {
     "name": "stdout",
     "output_type": "stream",
     "text": [
      "Feature 0: 19.920039\n",
      "Feature 1: 42.680612\n",
      "Feature 2: 4.255536\n",
      "Feature 3: 60.547178\n",
      "Feature 4: 73.474099\n",
      "Feature 5: 79.630121\n",
      "Feature 6: 106.602972\n",
      "Feature 7: 25.163798\n",
      "Feature 8: 68.178918\n",
      "Feature 9: 70.681433\n",
      "Feature 10: 141.746806\n",
      "Feature 11: 1894.672070\n",
      "Feature 12: 852.061117\n",
      "Feature 13: 31.728896\n",
      "Feature 14: 180.843561\n"
     ]
    },
    {
     "data": {
      "image/png": "[encoded data removed]",
      "text/plain": [
       "<Figure size 432x288 with 1 Axes>"
      ]
     },
     "metadata": {},
     "output_type": "display_data"
    },
    {
     "data": {
      "text/plain": [
       "array([0.40316405, 0.5026196 , 0.60929792])"
      ]
     },
     "execution_count": 11,
     "metadata": {},
     "output_type": "execute_result"
    }
   ],
   "source": [
    "X_train_fs, X_test_fs, fs_ = select_features_corr_based(X_train, y_train, X_test, x=10)\n",
    "fs_score_plot(fs_)\n",
    "\n",
    "cv = cross_val_score(XGBRegressor(), X_train_fs, y_train, scoring='r2', cv=3, n_jobs=-1)\n",
    "cv"
   ]
  },
  {
   "cell_type": "code",
   "execution_count": 12,
   "id": "a3de072a-9d0d-423c-897a-f7cab73be607",
   "metadata": {},
   "outputs": [
    {
     "data": {
      "image/png": "[encoded data removed]",
      "text/plain": [
       "<Figure size 504x360 with 1 Axes>"
      ]
     },
     "metadata": {},
     "output_type": "display_data"
    },
    {
     "data": {
      "text/plain": [
       "array([0.50468647, 0.39102826, 0.55243084])"
      ]
     },
     "execution_count": 12,
     "metadata": {},
     "output_type": "execute_result"
    }
   ],
   "source": [
    "X_train_rfe, X_test_rfe, rfe_ = select_features_model_based(XGBRegressor(), X_train, y_train, X_test, n=10)\n",
    "plt.figure(figsize=(7,5))\n",
    "sns.barplot(y =X_train.columns, x = max(rfe_.ranking_) - rfe_.ranking_)\n",
    "plt.show()\n",
    "\n",
    "cv = cross_val_score(XGBRegressor(), X_train_rfe, y_train, scoring='r2', cv=3, n_jobs=-1)\n",
    "cv"
   ]
  },
  {
   "cell_type": "code",
   "execution_count": 13,
   "id": "0ee54a33-1b03-4afa-bff3-491a12dd7cd0",
   "metadata": {},
   "outputs": [],
   "source": [
    "def modelling(X_train, y_train, X_test, y_test, **kwargs):\n",
    "    scores = {}\n",
    "    models = []\n",
    "    if 'xgb' in kwargs.keys() and kwargs['xgb']:\n",
    "        xgb = XGBRegressor()\n",
    "        xgb.fit(X_train, y_train)\n",
    "        y_pred = xgb.predict(X_test)\n",
    "        scores['xgb'] = np.round(np.sqrt(mean_squared_error(y_test, y_pred)),3)\n",
    "        \n",
    "    if 'rf' in kwargs.keys() and kwargs['rf']:\n",
    "        rf = RandomForestRegressor(n_estimators=200, criterion='mse')\n",
    "        rf.fit(X_train, y_train)\n",
    "        y_pred = rf.predict(X_test)\n",
    "        scores['rf'] = np.round(np.sqrt(mean_squared_error(y_test, y_pred)),3)\n",
    "        models.append(rf)\n",
    "\n",
    "    if 'dtree' in kwargs.keys() and kwargs['dtree']:\n",
    "        dtree = DecisionTreeRegressor(criterion='mse')\n",
    "        dtree.fit(X_train, y_train)\n",
    "        y_pred = dtree.predict(X_test)\n",
    "        scores['dtree'] = np.round(np.sqrt(mean_squared_error(y_test, y_pred)),3)\n",
    "        models.append(dtree)\n",
    "        \n",
    "    return scores"
   ]
  },
  {
   "cell_type": "code",
   "execution_count": 14,
   "id": "512cf436-702c-44fc-a68b-a0b056896335",
   "metadata": {},
   "outputs": [
    {
     "name": "stdout",
     "output_type": "stream",
     "text": [
      "{'xgb': 1.275, 'rf': 9.102, 'dtree': 0.0}\n",
      "{'xgb': 1.241, 'rf': 8.751, 'dtree': 0.0}\n",
      "{'xgb': 0.989, 'rf': 8.659, 'dtree': 0.0}\n"
     ]
    }
   ],
   "source": [
    "print(modelling(X_train_fs, y_train, X_test_fs, y_test, xgb=True,rf=True,dtree=True))\n",
    "print(modelling(X_train_rfe, y_train, X_test_rfe, y_test,xgb=True,rf=True,dtree=True))\n",
    "print(modelling(X_train, y_train, X_test, y_test,xgb=True,rf=True,dtree=True))"
   ]
  },
  {
   "cell_type": "code",
   "execution_count": 15,
   "id": "b56bcc9b-ebda-47a9-961e-b224e95537d2",
   "metadata": {},
   "outputs": [
    {
     "name": "stdout",
     "output_type": "stream",
     "text": [
      "r2 score for base model: 0.999022\n"
     ]
    },
    {
     "data": {
      "text/plain": [
       "<AxesSubplot:>"
      ]
     },
     "execution_count": 15,
     "metadata": {},
     "output_type": "execute_result"
    },
    {
     "data": {
      "image/png": "[encoded data removed]",
      "text/plain": [
       "<Figure size 1440x720 with 1 Axes>"
      ]
     },
     "metadata": {},
     "output_type": "display_data"
    }
   ],
   "source": [
    "boost = XGBRegressor()\n",
    "boost.fit(X_train, y_train)\n",
    "y_pred = boost.predict(X_test)\n",
    "print(\"r2 score for base model: %f\" % r2_score(y_test, y_pred))\n",
    "\n",
    "feature_important = boost.get_booster().get_score(importance_type='weight')\n",
    "keys = list(feature_important.keys())\n",
    "values = list(feature_important.values())\n",
    "\n",
    "data = pd.DataFrame(data=values, index=keys, columns=[\"score\"]).sort_values(by = \"score\", ascending=False)\n",
    "data.plot(kind='barh', figsize = (20,10))"
   ]
  },
  {
   "cell_type": "code",
   "execution_count": 17,
   "id": "2fa2ca44-d34a-4124-ac44-f2e6b0e91dba",
   "metadata": {},
   "outputs": [
    {
     "name": "stdout",
     "output_type": "stream",
     "text": [
      "Fitting 90 folds for each of 16 candidates, totalling 1440 fits\n",
      "[07:24:25] WARNING: C:/Users/Administrator/workspace/xgboost-win64_release_1.4.0/src/learner.cc:573: \n",
      "Parameters: { \"model__max_depth\", \"model__min_child_weight\", \"model__subsample\" } might not be used.\n",
      "\n",
      "  This may not be accurate due to some parameters are only used in language bindings but\n",
      "  passed down to XGBoost core.  Or some parameters are not used but slip through this\n",
      "  verification. Please open an issue if you find above cases.\n",
      "\n",
      "\n"
     ]
    },
    {
     "data": {
      "text/plain": [
       "GridSearchCV(cv=RepeatedKFold(n_repeats=3, n_splits=30, random_state=19),\n",
       "             estimator=XGBRegressor(base_score=0.5, booster='gbtree',\n",
       "                                    colsample_bylevel=1, colsample_bynode=1,\n",
       "                                    colsample_bytree=1, gamma=0, gpu_id=-1,\n",
       "                                    importance_type='gain',\n",
       "                                    interaction_constraints='',\n",
       "                                    learning_rate=0.300000012, max_delta_step=0,\n",
       "                                    max_depth=6, min_child_weight=1,\n",
       "                                    missing=nan, monotone_constraints='()',\n",
       "                                    n_estimators=100, n_jobs=4,\n",
       "                                    num_parallel_tree=1, random_state=0,\n",
       "                                    reg_alpha=0, reg_lambda=1,\n",
       "                                    scale_pos_weight=1, subsample=1,\n",
       "                                    tree_method='exact', validate_parameters=1,\n",
       "                                    verbosity=None),\n",
       "             n_jobs=-1,\n",
       "             param_grid=[{'model__max_depth': [9, 12],\n",
       "                          'model__min_child_weight': [7, 8],\n",
       "                          'model__subsample': [0.9, 1.0],\n",
       "                          'n_estimators': [100, 200]}],\n",
       "             scoring='r2', verbose=1)"
      ]
     },
     "execution_count": 17,
     "metadata": {},
     "output_type": "execute_result"
    }
   ],
   "source": [
    "cv = RepeatedKFold(n_splits= 30, n_repeats = 3, random_state = 19)\n",
    "\n",
    "grid_params_xgb = [{ 'n_estimators': [100, 200],\n",
    "                   'model__max_depth': [9,12],\n",
    "                   'model__min_child_weight': [7,8],\n",
    "                   'model__subsample': [i/10 for i in range(9,11)]\n",
    "                    }]\n",
    "\n",
    "XGB = GridSearchCV(estimator=boost,\n",
    "            param_grid=grid_params_xgb,\n",
    "            scoring='r2',\n",
    "            cv=cv, \n",
    "            n_jobs= -1,\n",
    "            verbose=1)\n",
    "\n",
    "\n",
    "XGB.fit(X_train, y_train)"
   ]
  },
  {
   "cell_type": "code",
   "execution_count": 18,
   "id": "259cd6e8-be2d-4b35-8ba1-1bc06cd3e876",
   "metadata": {},
   "outputs": [
    {
     "name": "stdout",
     "output_type": "stream",
     "text": [
      "Best MAE: -0.237\n"
     ]
    }
   ],
   "source": [
    "print('Best MAE: %.3f' % XGB.best_score_) # model__max_depth=12, model__min_child_weight=8, model__subsample=1.0, n_estimators=200\n",
    "boost_final = XGB.best_estimator_"
   ]
  },
  {
   "cell_type": "code",
   "execution_count": 19,
   "id": "e500003c-7635-4218-89f4-ef8558a4318b",
   "metadata": {},
   "outputs": [
    {
     "name": "stdout",
     "output_type": "stream",
     "text": [
      "Training score : 0.9997958262035951\n",
      "r2 score: 0.9998695330244035\n",
      "MAE: 0.2540970054718085\n",
      "MSE: 0.13058452403978896\n",
      "RMSE: 0.36136480741736454\n"
     ]
    }
   ],
   "source": [
    "y_hat = boost_final.predict(X_test)\n",
    "print(f'Training score : {XGB.score(X_train,y_train)}')\n",
    "\n",
    "# print()\n",
    "print('r2 score:', r2_score(y_test, y_hat))\n",
    "print('MAE:', mean_absolute_error(y_test, y_hat))\n",
    "print('MSE:', mean_squared_error(y_test, y_hat))\n",
    "print('RMSE:', np.sqrt(mean_squared_error(y_test, y_hat)))"
   ]
  },
  {
   "cell_type": "code",
   "execution_count": 20,
   "id": "72ed2721-6e1b-4c22-8c37-86b24092fc50",
   "metadata": {},
   "outputs": [
    {
     "data": {
      "image/png": "[encoded data removed]",
      "text/plain": [
       "<Figure size 504x360 with 1 Axes>"
      ]
     },
     "metadata": {},
     "output_type": "display_data"
    }
   ],
   "source": [
    "plt.figure(figsize = (7,5))\n",
    "sns.set()\n",
    "sns.distplot(y_test - y_hat)\n",
    "plt.title(\"Error Rate Distribution\");"
   ]
  },
  {
   "cell_type": "code",
   "execution_count": 22,
   "id": "2624aed7-1793-484b-bc43-5c52e3f51220",
   "metadata": {},
   "outputs": [],
   "source": [
    "import joblib\n",
    "joblib.dump(boost_final,'XGB')\n",
    "\n",
    "model = joblib.load('XGB')"
   ]
  },
  {
   "cell_type": "code",
   "execution_count": 14,
   "id": "6988c25e-a267-4e6c-a7aa-2f7a7e691408",
   "metadata": {},
   "outputs": [
    {
     "data": {
      "text/html": [
       "<div>\n",
       "<style scoped>\n",
       "    .dataframe tbody tr th:only-of-type {\n",
       "        vertical-align: middle;\n",
       "    }\n",
       "\n",
       "    .dataframe tbody tr th {\n",
       "        vertical-align: top;\n",
       "    }\n",
       "\n",
       "    .dataframe thead th {\n",
       "        text-align: right;\n",
       "    }\n",
       "</style>\n",
       "<table border=\"1\" class=\"dataframe\">\n",
       "  <thead>\n",
       "    <tr style=\"text-align: right;\">\n",
       "      <th></th>\n",
       "      <th>count</th>\n",
       "      <th>unique</th>\n",
       "      <th>top</th>\n",
       "      <th>freq</th>\n",
       "    </tr>\n",
       "  </thead>\n",
       "  <tbody>\n",
       "    <tr>\n",
       "      <th>Experiment</th>\n",
       "      <td>2246</td>\n",
       "      <td>3</td>\n",
       "      <td>BCSE_KBS</td>\n",
       "      <td>1094</td>\n",
       "    </tr>\n",
       "    <tr>\n",
       "      <th>Month</th>\n",
       "      <td>2246</td>\n",
       "      <td>12</td>\n",
       "      <td>July</td>\n",
       "      <td>285</td>\n",
       "    </tr>\n",
       "    <tr>\n",
       "      <th>Vegetation</th>\n",
       "      <td>2246</td>\n",
       "      <td>3</td>\n",
       "      <td>Corn</td>\n",
       "      <td>1845</td>\n",
       "    </tr>\n",
       "  </tbody>\n",
       "</table>\n",
       "</div>"
      ],
      "text/plain": [
       "           count unique       top  freq\n",
       "Experiment  2246      3  BCSE_KBS  1094\n",
       "Month       2246     12      July   285\n",
       "Vegetation  2246      3      Corn  1845"
      ]
     },
     "execution_count": 14,
     "metadata": {},
     "output_type": "execute_result"
    }
   ],
   "source": [
    "df.describe(include='O').T"
   ]
  },
  {
   "cell_type": "code",
   "execution_count": 18,
   "id": "d883ea1f-08cd-4c8e-967a-802a3c0a0795",
   "metadata": {},
   "outputs": [
    {
     "data": {
      "text/plain": [
       "BCSE_KBS        48.709\n",
       "MCSE-T2         29.831\n",
       "Arlington WI    21.460\n",
       "Name: Experiment, dtype: float64"
      ]
     },
     "execution_count": 18,
     "metadata": {},
     "output_type": "execute_result"
    }
   ],
   "source": [
    "df['Experiment'].value_counts(normalize=True)*100"
   ]
  },
  {
   "cell_type": "code",
   "execution_count": 67,
   "id": "21239ff1-bcf8-409d-9fc0-8259840b1437",
   "metadata": {},
   "outputs": [],
   "source": [
    "major_samples = X_train.drop('Vegetation',axis=1)\n",
    "minor_samples = X_train['Vegetation']\n",
    "\n",
    "oversample = SMOTE()\n",
    "X_res, y_res = oversample.fit_resample(major_samples,minor_samples)"
   ]
  },
  {
   "cell_type": "code",
   "execution_count": 68,
   "id": "1d520a7d-e827-40e0-8e17-4f37d9a8dbef",
   "metadata": {},
   "outputs": [
    {
     "data": {
      "text/plain": [
       "((3861, 14), (3861,))"
      ]
     },
     "execution_count": 68,
     "metadata": {},
     "output_type": "execute_result"
    }
   ],
   "source": [
    "X_res.shape, y_res.shape"
   ]
  },
  {
   "cell_type": "code",
   "execution_count": 69,
   "id": "53ad8dd5-9c0f-44a6-b113-f6ea5ec37441",
   "metadata": {},
   "outputs": [
    {
     "name": "stdout",
     "output_type": "stream",
     "text": [
      "Class=1, n=1287 (33.333%)\n",
      "Class=3, n=1287 (33.333%)\n",
      "Class=2, n=1287 (33.333%)\n"
     ]
    }
   ],
   "source": [
    "counter = Counter(y_res)\n",
    "for k,v in counter.items():\n",
    "    per = v / len(y_res) * 100\n",
    "    print('Class=%d, n=%d (%.3f%%)' % (k, v, per))"
   ]
  },
  {
   "cell_type": "code",
   "execution_count": 63,
   "id": "3c90355a-fcf8-441d-9521-c34a1b0ed881",
   "metadata": {},
   "outputs": [
    {
     "data": {
      "text/plain": [
       "(7722, 15)"
      ]
     },
     "execution_count": 63,
     "metadata": {},
     "output_type": "execute_result"
    }
   ],
   "source": [
    "X_train_bal = pd.concat([X_res, y_res])\n",
    "X_train_bal.shape"
   ]
  },
  {
   "cell_type": "code",
   "execution_count": 71,
   "id": "a95144c9-ba8f-4914-9135-96945c18235f",
   "metadata": {},
   "outputs": [
    {
     "data": {
      "text/html": [
       "<div>\n",
       "<style scoped>\n",
       "    .dataframe tbody tr th:only-of-type {\n",
       "        vertical-align: middle;\n",
       "    }\n",
       "\n",
       "    .dataframe tbody tr th {\n",
       "        vertical-align: top;\n",
       "    }\n",
       "\n",
       "    .dataframe thead th {\n",
       "        text-align: right;\n",
       "    }\n",
       "</style>\n",
       "<table border=\"1\" class=\"dataframe\">\n",
       "  <thead>\n",
       "    <tr style=\"text-align: right;\">\n",
       "      <th></th>\n",
       "      <th>0</th>\n",
       "      <th>AirT</th>\n",
       "      <th>Clay</th>\n",
       "      <th>DAF_SD</th>\n",
       "      <th>DAF_TD</th>\n",
       "      <th>Experiment</th>\n",
       "      <th>Month</th>\n",
       "      <th>NH4</th>\n",
       "      <th>NO3</th>\n",
       "      <th>N_rate</th>\n",
       "      <th>PP2</th>\n",
       "      <th>PP7</th>\n",
       "      <th>SOM</th>\n",
       "      <th>WFPS25cm</th>\n",
       "      <th>Year</th>\n",
       "    </tr>\n",
       "  </thead>\n",
       "  <tbody>\n",
       "    <tr>\n",
       "      <th>0</th>\n",
       "      <td>NaN</td>\n",
       "      <td>18.50</td>\n",
       "      <td>62.500</td>\n",
       "      <td>91.0</td>\n",
       "      <td>130.0</td>\n",
       "      <td>1.0</td>\n",
       "      <td>9.0</td>\n",
       "      <td>6.452</td>\n",
       "      <td>14.963</td>\n",
       "      <td>170.0</td>\n",
       "      <td>0.0</td>\n",
       "      <td>16.00</td>\n",
       "      <td>1.174</td>\n",
       "      <td>0.607</td>\n",
       "      <td>2016.0</td>\n",
       "    </tr>\n",
       "    <tr>\n",
       "      <th>1</th>\n",
       "      <td>NaN</td>\n",
       "      <td>17.87</td>\n",
       "      <td>169.833</td>\n",
       "      <td>42.0</td>\n",
       "      <td>71.0</td>\n",
       "      <td>2.0</td>\n",
       "      <td>7.0</td>\n",
       "      <td>22.237</td>\n",
       "      <td>11.728</td>\n",
       "      <td>167.0</td>\n",
       "      <td>0.0</td>\n",
       "      <td>7.11</td>\n",
       "      <td>1.823</td>\n",
       "      <td>0.219</td>\n",
       "      <td>2014.0</td>\n",
       "    </tr>\n",
       "    <tr>\n",
       "      <th>2</th>\n",
       "      <td>NaN</td>\n",
       "      <td>20.50</td>\n",
       "      <td>62.500</td>\n",
       "      <td>363.0</td>\n",
       "      <td>36.0</td>\n",
       "      <td>1.0</td>\n",
       "      <td>6.0</td>\n",
       "      <td>6.355</td>\n",
       "      <td>23.093</td>\n",
       "      <td>170.0</td>\n",
       "      <td>2.0</td>\n",
       "      <td>1.00</td>\n",
       "      <td>1.174</td>\n",
       "      <td>0.600</td>\n",
       "      <td>2016.0</td>\n",
       "    </tr>\n",
       "    <tr>\n",
       "      <th>3</th>\n",
       "      <td>NaN</td>\n",
       "      <td>-0.80</td>\n",
       "      <td>62.500</td>\n",
       "      <td>200.0</td>\n",
       "      <td>247.0</td>\n",
       "      <td>1.0</td>\n",
       "      <td>1.0</td>\n",
       "      <td>10.542</td>\n",
       "      <td>22.967</td>\n",
       "      <td>170.0</td>\n",
       "      <td>0.0</td>\n",
       "      <td>29.00</td>\n",
       "      <td>1.174</td>\n",
       "      <td>0.660</td>\n",
       "      <td>2016.0</td>\n",
       "    </tr>\n",
       "    <tr>\n",
       "      <th>4</th>\n",
       "      <td>NaN</td>\n",
       "      <td>18.13</td>\n",
       "      <td>162.500</td>\n",
       "      <td>6.0</td>\n",
       "      <td>6.0</td>\n",
       "      <td>2.0</td>\n",
       "      <td>5.0</td>\n",
       "      <td>23.688</td>\n",
       "      <td>39.218</td>\n",
       "      <td>91.0</td>\n",
       "      <td>0.0</td>\n",
       "      <td>0.00</td>\n",
       "      <td>1.496</td>\n",
       "      <td>0.293</td>\n",
       "      <td>2013.0</td>\n",
       "    </tr>\n",
       "  </tbody>\n",
       "</table>\n",
       "</div>"
      ],
      "text/plain": [
       "    0   AirT     Clay  DAF_SD  DAF_TD  Experiment  Month     NH4     NO3  \\\n",
       "0 NaN  18.50   62.500    91.0   130.0         1.0    9.0   6.452  14.963   \n",
       "1 NaN  17.87  169.833    42.0    71.0         2.0    7.0  22.237  11.728   \n",
       "2 NaN  20.50   62.500   363.0    36.0         1.0    6.0   6.355  23.093   \n",
       "3 NaN  -0.80   62.500   200.0   247.0         1.0    1.0  10.542  22.967   \n",
       "4 NaN  18.13  162.500     6.0     6.0         2.0    5.0  23.688  39.218   \n",
       "\n",
       "   N_rate  PP2    PP7    SOM  WFPS25cm    Year  \n",
       "0   170.0  0.0  16.00  1.174     0.607  2016.0  \n",
       "1   167.0  0.0   7.11  1.823     0.219  2014.0  \n",
       "2   170.0  2.0   1.00  1.174     0.600  2016.0  \n",
       "3   170.0  0.0  29.00  1.174     0.660  2016.0  \n",
       "4    91.0  0.0   0.00  1.496     0.293  2013.0  "
      ]
     },
     "execution_count": 71,
     "metadata": {},
     "output_type": "execute_result"
    }
   ],
   "source": [
    "X_train_bal.head()"
   ]
  },
  {
   "cell_type": "code",
   "execution_count": 59,
   "id": "a302f364-f161-436f-8277-80bd9457c614",
   "metadata": {},
   "outputs": [
    {
     "ename": "ValueError",
     "evalue": "Input contains NaN, infinity or a value too large for dtype('float64').",
     "output_type": "error",
     "traceback": [
      "\u001b[1;31m---------------------------------------------------------------------------\u001b[0m",
      "\u001b[1;31mValueError\u001b[0m                                Traceback (most recent call last)",
      "\u001b[1;32m~\\AppData\\Local\\Temp/ipykernel_11148/2363250438.py\u001b[0m in \u001b[0;36m<module>\u001b[1;34m\u001b[0m\n\u001b[0;32m      3\u001b[0m \u001b[1;33m\u001b[0m\u001b[0m\n\u001b[0;32m      4\u001b[0m \u001b[0moversample\u001b[0m \u001b[1;33m=\u001b[0m \u001b[0mSMOTE\u001b[0m\u001b[1;33m(\u001b[0m\u001b[1;33m)\u001b[0m\u001b[1;33m\u001b[0m\u001b[1;33m\u001b[0m\u001b[0m\n\u001b[1;32m----> 5\u001b[1;33m \u001b[0mX_res1\u001b[0m\u001b[1;33m,\u001b[0m \u001b[0my_res1\u001b[0m \u001b[1;33m=\u001b[0m \u001b[0moversample\u001b[0m\u001b[1;33m.\u001b[0m\u001b[0mfit_resample\u001b[0m\u001b[1;33m(\u001b[0m\u001b[0mmajor_samples1\u001b[0m\u001b[1;33m,\u001b[0m\u001b[0mminor_samples1\u001b[0m\u001b[1;33m)\u001b[0m\u001b[1;33m\u001b[0m\u001b[1;33m\u001b[0m\u001b[0m\n\u001b[0m",
      "\u001b[1;32mc:\\python39\\lib\\site-packages\\imblearn\\base.py\u001b[0m in \u001b[0;36mfit_resample\u001b[1;34m(self, X, y)\u001b[0m\n\u001b[0;32m     73\u001b[0m             \u001b[0mThe\u001b[0m \u001b[0mcorresponding\u001b[0m \u001b[0mlabel\u001b[0m \u001b[0mof\u001b[0m\u001b[0;31m \u001b[0m\u001b[0;31m`\u001b[0m\u001b[0mX_resampled\u001b[0m\u001b[0;31m`\u001b[0m\u001b[1;33m.\u001b[0m\u001b[1;33m\u001b[0m\u001b[1;33m\u001b[0m\u001b[0m\n\u001b[0;32m     74\u001b[0m         \"\"\"\n\u001b[1;32m---> 75\u001b[1;33m         \u001b[0mcheck_classification_targets\u001b[0m\u001b[1;33m(\u001b[0m\u001b[0my\u001b[0m\u001b[1;33m)\u001b[0m\u001b[1;33m\u001b[0m\u001b[1;33m\u001b[0m\u001b[0m\n\u001b[0m\u001b[0;32m     76\u001b[0m         \u001b[0marrays_transformer\u001b[0m \u001b[1;33m=\u001b[0m \u001b[0mArraysTransformer\u001b[0m\u001b[1;33m(\u001b[0m\u001b[0mX\u001b[0m\u001b[1;33m,\u001b[0m \u001b[0my\u001b[0m\u001b[1;33m)\u001b[0m\u001b[1;33m\u001b[0m\u001b[1;33m\u001b[0m\u001b[0m\n\u001b[0;32m     77\u001b[0m         \u001b[0mX\u001b[0m\u001b[1;33m,\u001b[0m \u001b[0my\u001b[0m\u001b[1;33m,\u001b[0m \u001b[0mbinarize_y\u001b[0m \u001b[1;33m=\u001b[0m \u001b[0mself\u001b[0m\u001b[1;33m.\u001b[0m\u001b[0m_check_X_y\u001b[0m\u001b[1;33m(\u001b[0m\u001b[0mX\u001b[0m\u001b[1;33m,\u001b[0m \u001b[0my\u001b[0m\u001b[1;33m)\u001b[0m\u001b[1;33m\u001b[0m\u001b[1;33m\u001b[0m\u001b[0m\n",
      "\u001b[1;32mc:\\python39\\lib\\site-packages\\sklearn\\utils\\multiclass.py\u001b[0m in \u001b[0;36mcheck_classification_targets\u001b[1;34m(y)\u001b[0m\n\u001b[0;32m    178\u001b[0m     \u001b[0my\u001b[0m \u001b[1;33m:\u001b[0m \u001b[0marray\u001b[0m\u001b[1;33m-\u001b[0m\u001b[0mlike\u001b[0m\u001b[1;33m\u001b[0m\u001b[1;33m\u001b[0m\u001b[0m\n\u001b[0;32m    179\u001b[0m     \"\"\"\n\u001b[1;32m--> 180\u001b[1;33m     \u001b[0my_type\u001b[0m \u001b[1;33m=\u001b[0m \u001b[0mtype_of_target\u001b[0m\u001b[1;33m(\u001b[0m\u001b[0my\u001b[0m\u001b[1;33m)\u001b[0m\u001b[1;33m\u001b[0m\u001b[1;33m\u001b[0m\u001b[0m\n\u001b[0m\u001b[0;32m    181\u001b[0m     if y_type not in ['binary', 'multiclass', 'multiclass-multioutput',\n\u001b[0;32m    182\u001b[0m                       'multilabel-indicator', 'multilabel-sequences']:\n",
      "\u001b[1;32mc:\\python39\\lib\\site-packages\\sklearn\\utils\\multiclass.py\u001b[0m in \u001b[0;36mtype_of_target\u001b[1;34m(y)\u001b[0m\n\u001b[0;32m    301\u001b[0m     \u001b[1;32mif\u001b[0m \u001b[0my\u001b[0m\u001b[1;33m.\u001b[0m\u001b[0mdtype\u001b[0m\u001b[1;33m.\u001b[0m\u001b[0mkind\u001b[0m \u001b[1;33m==\u001b[0m \u001b[1;34m'f'\u001b[0m \u001b[1;32mand\u001b[0m \u001b[0mnp\u001b[0m\u001b[1;33m.\u001b[0m\u001b[0many\u001b[0m\u001b[1;33m(\u001b[0m\u001b[0my\u001b[0m \u001b[1;33m!=\u001b[0m \u001b[0my\u001b[0m\u001b[1;33m.\u001b[0m\u001b[0mastype\u001b[0m\u001b[1;33m(\u001b[0m\u001b[0mint\u001b[0m\u001b[1;33m)\u001b[0m\u001b[1;33m)\u001b[0m\u001b[1;33m:\u001b[0m\u001b[1;33m\u001b[0m\u001b[1;33m\u001b[0m\u001b[0m\n\u001b[0;32m    302\u001b[0m         \u001b[1;31m# [.1, .2, 3] or [[.1, .2, 3]] or [[1., .2]] and not [1., 2., 3.]\u001b[0m\u001b[1;33m\u001b[0m\u001b[1;33m\u001b[0m\u001b[1;33m\u001b[0m\u001b[0m\n\u001b[1;32m--> 303\u001b[1;33m         \u001b[0m_assert_all_finite\u001b[0m\u001b[1;33m(\u001b[0m\u001b[0my\u001b[0m\u001b[1;33m)\u001b[0m\u001b[1;33m\u001b[0m\u001b[1;33m\u001b[0m\u001b[0m\n\u001b[0m\u001b[0;32m    304\u001b[0m         \u001b[1;32mreturn\u001b[0m \u001b[1;34m'continuous'\u001b[0m \u001b[1;33m+\u001b[0m \u001b[0msuffix\u001b[0m\u001b[1;33m\u001b[0m\u001b[1;33m\u001b[0m\u001b[0m\n\u001b[0;32m    305\u001b[0m \u001b[1;33m\u001b[0m\u001b[0m\n",
      "\u001b[1;32mc:\\python39\\lib\\site-packages\\sklearn\\utils\\validation.py\u001b[0m in \u001b[0;36m_assert_all_finite\u001b[1;34m(X, allow_nan, msg_dtype)\u001b[0m\n\u001b[0;32m    101\u001b[0m                 not allow_nan and not np.isfinite(X).all()):\n\u001b[0;32m    102\u001b[0m             \u001b[0mtype_err\u001b[0m \u001b[1;33m=\u001b[0m \u001b[1;34m'infinity'\u001b[0m \u001b[1;32mif\u001b[0m \u001b[0mallow_nan\u001b[0m \u001b[1;32melse\u001b[0m \u001b[1;34m'NaN, infinity'\u001b[0m\u001b[1;33m\u001b[0m\u001b[1;33m\u001b[0m\u001b[0m\n\u001b[1;32m--> 103\u001b[1;33m             raise ValueError(\n\u001b[0m\u001b[0;32m    104\u001b[0m                     \u001b[0mmsg_err\u001b[0m\u001b[1;33m.\u001b[0m\u001b[0mformat\u001b[0m\u001b[1;33m\u001b[0m\u001b[1;33m\u001b[0m\u001b[0m\n\u001b[0;32m    105\u001b[0m                     (type_err,\n",
      "\u001b[1;31mValueError\u001b[0m: Input contains NaN, infinity or a value too large for dtype('float64')."
     ]
    }
   ],
   "source": [
    "major_samples1 = X_train_bal.drop('Vegetation',axis=1)\n",
    "minor_samples1 = X_train_bal['Vegetation']\n",
    "\n",
    "oversample = SMOTE()\n",
    "X_res1, y_res1 = oversample.fit_resample(major_samples1,minor_samples1)"
   ]
  },
  {
   "cell_type": "code",
   "execution_count": 52,
   "id": "0a543259-2528-4e9d-85b0-32f61a7d9a8f",
   "metadata": {},
   "outputs": [
    {
     "data": {
      "text/plain": [
       "((1572, 14), (1572,))"
      ]
     },
     "execution_count": 52,
     "metadata": {},
     "output_type": "execute_result"
    }
   ],
   "source": [
    "X.shape, y.shape"
   ]
  },
  {
   "cell_type": "code",
   "execution_count": 46,
   "id": "5e66b0d9-72a2-4e82-84d0-fb966c766e07",
   "metadata": {},
   "outputs": [
    {
     "data": {
      "text/plain": [
       "1    82.146\n",
       "2     9.083\n",
       "3     8.771\n",
       "Name: Vegetation, dtype: float64"
      ]
     },
     "execution_count": 46,
     "metadata": {},
     "output_type": "execute_result"
    }
   ],
   "source": [
    "df['Vegetation'].value_counts(normalize=True)*100"
   ]
  },
  {
   "cell_type": "code",
   "execution_count": 44,
   "id": "29d86c30-8e01-4679-bf94-d75a973e9ada",
   "metadata": {},
   "outputs": [
    {
     "data": {
      "text/plain": [
       "pandas.core.frame.DataFrame"
      ]
     },
     "execution_count": 44,
     "metadata": {},
     "output_type": "execute_result"
    }
   ],
   "source": [
    "type(X_train)"
   ]
  },
  {
   "cell_type": "code",
   "execution_count": 45,
   "id": "d24593df-a1fe-452d-b517-b2af9a7723e9",
   "metadata": {},
   "outputs": [
    {
     "data": {
      "text/plain": [
       "1.0    1287\n",
       "2.0     147\n",
       "3.0     138\n",
       "Name: Vegetation, dtype: int64"
      ]
     },
     "execution_count": 45,
     "metadata": {},
     "output_type": "execute_result"
    }
   ],
   "source": [
    "X_train['Vegetation'].value_counts()"
   ]
  },
  {
   "cell_type": "code",
   "execution_count": 19,
   "id": "6cb81d4c-76d6-4af2-b612-7b94c01f9548",
   "metadata": {},
   "outputs": [
    {
     "data": {
      "text/plain": [
       "July         12.689\n",
       "June         12.066\n",
       "September    11.220\n",
       "May          10.641\n",
       "April         9.884\n",
       "August        9.884\n",
       "October       7.792\n",
       "November      7.524\n",
       "March         6.500\n",
       "January       4.274\n",
       "December      3.963\n",
       "February      3.562\n",
       "Name: Month, dtype: float64"
      ]
     },
     "execution_count": 19,
     "metadata": {},
     "output_type": "execute_result"
    }
   ],
   "source": [
    "df['Month'].value_counts(normalize=True)*100"
   ]
  },
  {
   "cell_type": "code",
   "execution_count": 22,
   "id": "35ead5ad-b389-411f-8d35-a041366dca54",
   "metadata": {},
   "outputs": [
    {
     "data": {
      "text/html": [
       "<div>\n",
       "<style scoped>\n",
       "    .dataframe tbody tr th:only-of-type {\n",
       "        vertical-align: middle;\n",
       "    }\n",
       "\n",
       "    .dataframe tbody tr th {\n",
       "        vertical-align: top;\n",
       "    }\n",
       "\n",
       "    .dataframe thead th {\n",
       "        text-align: right;\n",
       "    }\n",
       "</style>\n",
       "<table border=\"1\" class=\"dataframe\">\n",
       "  <thead>\n",
       "    <tr style=\"text-align: right;\">\n",
       "      <th></th>\n",
       "      <th>count</th>\n",
       "      <th>mean</th>\n",
       "      <th>std</th>\n",
       "      <th>min</th>\n",
       "      <th>25%</th>\n",
       "      <th>50%</th>\n",
       "      <th>75%</th>\n",
       "      <th>max</th>\n",
       "    </tr>\n",
       "  </thead>\n",
       "  <tbody>\n",
       "    <tr>\n",
       "      <th>Year</th>\n",
       "      <td>2246</td>\n",
       "      <td>2011.93</td>\n",
       "      <td>3.61742</td>\n",
       "      <td>2002</td>\n",
       "      <td>2011</td>\n",
       "      <td>2013</td>\n",
       "      <td>2014</td>\n",
       "      <td>2017</td>\n",
       "    </tr>\n",
       "    <tr>\n",
       "      <th>N2O</th>\n",
       "      <td>2246</td>\n",
       "      <td>7.46861</td>\n",
       "      <td>28.4883</td>\n",
       "      <td>-7.4153</td>\n",
       "      <td>0.504316</td>\n",
       "      <td>1.97206</td>\n",
       "      <td>5.18762</td>\n",
       "      <td>593.072</td>\n",
       "    </tr>\n",
       "    <tr>\n",
       "      <th>N_rate</th>\n",
       "      <td>2246</td>\n",
       "      <td>142.994</td>\n",
       "      <td>56.1304</td>\n",
       "      <td>0</td>\n",
       "      <td>135</td>\n",
       "      <td>170</td>\n",
       "      <td>170</td>\n",
       "      <td>213</td>\n",
       "    </tr>\n",
       "    <tr>\n",
       "      <th>PP2</th>\n",
       "      <td>2246</td>\n",
       "      <td>5.21984</td>\n",
       "      <td>10.0641</td>\n",
       "      <td>0</td>\n",
       "      <td>0</td>\n",
       "      <td>0.51</td>\n",
       "      <td>6</td>\n",
       "      <td>95.25</td>\n",
       "    </tr>\n",
       "    <tr>\n",
       "      <th>PP7</th>\n",
       "      <td>2246</td>\n",
       "      <td>19.2453</td>\n",
       "      <td>23.7234</td>\n",
       "      <td>0</td>\n",
       "      <td>3.56</td>\n",
       "      <td>11.93</td>\n",
       "      <td>27</td>\n",
       "      <td>260.09</td>\n",
       "    </tr>\n",
       "    <tr>\n",
       "      <th>AirT</th>\n",
       "      <td>2246</td>\n",
       "      <td>12.4087</td>\n",
       "      <td>9.49015</td>\n",
       "      <td>-20.7</td>\n",
       "      <td>5.94</td>\n",
       "      <td>14.49</td>\n",
       "      <td>20.07</td>\n",
       "      <td>30.7</td>\n",
       "    </tr>\n",
       "    <tr>\n",
       "      <th>DAF_TD</th>\n",
       "      <td>2246</td>\n",
       "      <td>195.321</td>\n",
       "      <td>144.915</td>\n",
       "      <td>1</td>\n",
       "      <td>73.25</td>\n",
       "      <td>160</td>\n",
       "      <td>308.75</td>\n",
       "      <td>718</td>\n",
       "    </tr>\n",
       "    <tr>\n",
       "      <th>DAF_SD</th>\n",
       "      <td>2246</td>\n",
       "      <td>198.898</td>\n",
       "      <td>142.907</td>\n",
       "      <td>0</td>\n",
       "      <td>75</td>\n",
       "      <td>172</td>\n",
       "      <td>320</td>\n",
       "      <td>678</td>\n",
       "    </tr>\n",
       "    <tr>\n",
       "      <th>WFPS25cm</th>\n",
       "      <td>2194</td>\n",
       "      <td>0.531047</td>\n",
       "      <td>0.171868</td>\n",
       "      <td>0.0243877</td>\n",
       "      <td>0.390203</td>\n",
       "      <td>0.553853</td>\n",
       "      <td>0.680321</td>\n",
       "      <td>0.912113</td>\n",
       "    </tr>\n",
       "    <tr>\n",
       "      <th>NH4</th>\n",
       "      <td>2170</td>\n",
       "      <td>11.4514</td>\n",
       "      <td>13.2149</td>\n",
       "      <td>1.38339</td>\n",
       "      <td>5.29032</td>\n",
       "      <td>9.08128</td>\n",
       "      <td>12.1403</td>\n",
       "      <td>228.525</td>\n",
       "    </tr>\n",
       "    <tr>\n",
       "      <th>NO3</th>\n",
       "      <td>2216</td>\n",
       "      <td>24.9971</td>\n",
       "      <td>24.9418</td>\n",
       "      <td>0.37007</td>\n",
       "      <td>10.1847</td>\n",
       "      <td>19.7959</td>\n",
       "      <td>27.0855</td>\n",
       "      <td>238.92</td>\n",
       "    </tr>\n",
       "    <tr>\n",
       "      <th>Clay</th>\n",
       "      <td>2246</td>\n",
       "      <td>134.425</td>\n",
       "      <td>79.5649</td>\n",
       "      <td>62.5</td>\n",
       "      <td>62.5</td>\n",
       "      <td>128.333</td>\n",
       "      <td>183.25</td>\n",
       "      <td>280</td>\n",
       "    </tr>\n",
       "    <tr>\n",
       "      <th>SOM</th>\n",
       "      <td>2246</td>\n",
       "      <td>1.9015</td>\n",
       "      <td>1.1329</td>\n",
       "      <td>1.17407</td>\n",
       "      <td>1.17407</td>\n",
       "      <td>1.1868</td>\n",
       "      <td>1.8232</td>\n",
       "      <td>4.5</td>\n",
       "    </tr>\n",
       "  </tbody>\n",
       "</table>\n",
       "</div>"
      ],
      "text/plain": [
       "         count      mean       std        min       25%       50%       75%  \\\n",
       "Year      2246   2011.93   3.61742       2002      2011      2013      2014   \n",
       "N2O       2246   7.46861   28.4883    -7.4153  0.504316   1.97206   5.18762   \n",
       "N_rate    2246   142.994   56.1304          0       135       170       170   \n",
       "PP2       2246   5.21984   10.0641          0         0      0.51         6   \n",
       "PP7       2246   19.2453   23.7234          0      3.56     11.93        27   \n",
       "AirT      2246   12.4087   9.49015      -20.7      5.94     14.49     20.07   \n",
       "DAF_TD    2246   195.321   144.915          1     73.25       160    308.75   \n",
       "DAF_SD    2246   198.898   142.907          0        75       172       320   \n",
       "WFPS25cm  2194  0.531047  0.171868  0.0243877  0.390203  0.553853  0.680321   \n",
       "NH4       2170   11.4514   13.2149    1.38339   5.29032   9.08128   12.1403   \n",
       "NO3       2216   24.9971   24.9418    0.37007   10.1847   19.7959   27.0855   \n",
       "Clay      2246   134.425   79.5649       62.5      62.5   128.333    183.25   \n",
       "SOM       2246    1.9015    1.1329    1.17407   1.17407    1.1868    1.8232   \n",
       "\n",
       "               max  \n",
       "Year          2017  \n",
       "N2O        593.072  \n",
       "N_rate         213  \n",
       "PP2          95.25  \n",
       "PP7         260.09  \n",
       "AirT          30.7  \n",
       "DAF_TD         718  \n",
       "DAF_SD         678  \n",
       "WFPS25cm  0.912113  \n",
       "NH4        228.525  \n",
       "NO3         238.92  \n",
       "Clay           280  \n",
       "SOM            4.5  "
      ]
     },
     "execution_count": 22,
     "metadata": {},
     "output_type": "execute_result"
    }
   ],
   "source": [
    "df.describe(include=['int64','float64']).apply(lambda x: x.apply(lambda x: format(x,'g'))).T"
   ]
  },
  {
   "cell_type": "code",
   "execution_count": null,
   "id": "fa3e9939-fa05-471d-8e76-6f43311e83df",
   "metadata": {},
   "outputs": [],
   "source": []
  }
 ],
 "metadata": {
  "kernelspec": {
   "display_name": "Python 3 (ipykernel)",
   "language": "python",
   "name": "python3"
  },
  "language_info": {
   "codemirror_mode": {
    "name": "ipython",
    "version": 3
   },
   "file_extension": ".py",
   "mimetype": "text/x-python",
   "name": "python",
   "nbconvert_exporter": "python",
   "pygments_lexer": "ipython3",
   "version": "3.9.2"
  }
 },
 "nbformat": 4,
 "nbformat_minor": 5
}
